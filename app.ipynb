{
 "cells": [
  {
   "cell_type": "code",
   "execution_count": 1,
   "metadata": {},
   "outputs": [],
   "source": [
    "# ! pip install speechrecognition\n",
    "# ! pip install wheel\n",
    "# ! pip install pipwin\n",
    "# ! pipwin install pyaudio"
   ]
  },
  {
   "cell_type": "code",
   "execution_count": 2,
   "metadata": {},
   "outputs": [],
   "source": [
    "import speech_recognition"
   ]
  },
  {
   "cell_type": "code",
   "execution_count": 3,
   "metadata": {},
   "outputs": [],
   "source": [
    "# The Recognizer is initialized.\n",
    "UserVoiceRecognizer = speech_recognition.Recognizer()"
   ]
  },
  {
   "cell_type": "code",
   "execution_count": 4,
   "metadata": {},
   "outputs": [
    {
     "name": "stdout",
     "output_type": "stream",
     "text": [
      "hello\n",
      "my name is Megha\n",
      "I live in a city Indore of Madhya Pradesh state\n",
      "I am a married man\n",
      "No User Voice detected OR unintelligible noises detected OR the recognized audio cannot be matched to text !!!\n",
      "No User Voice detected OR unintelligible noises detected OR the recognized audio cannot be matched to text !!!\n",
      "I am 22 years old\n",
      "I am 32 years old\n",
      "No User Voice detected OR unintelligible noises detected OR the recognized audio cannot be matched to text !!!\n",
      "I have a newborn baby girl called dhanvi\n",
      "No User Voice detected OR unintelligible noises detected OR the recognized audio cannot be matched to text !!!\n",
      "stop\n",
      "Terminating Recording\n"
     ]
    }
   ],
   "source": [
    "while(1):\n",
    "    try:\n",
    " \n",
    "        with speech_recognition.Microphone() as UserVoiceInputSource:\n",
    " \n",
    "            UserVoiceRecognizer.adjust_for_ambient_noise(UserVoiceInputSource, duration=0.5)\n",
    " \n",
    "            # The Program listens to the user voice input.\n",
    "            UserVoiceInput = UserVoiceRecognizer.listen(UserVoiceInputSource)\n",
    " \n",
    "            UserVoiceInput_converted_to_Text = UserVoiceRecognizer.recognize_google(UserVoiceInput)\n",
    "            UserVoiceInput_converted_to_Text = UserVoiceInput_converted_to_Text\n",
    "            print(UserVoiceInput_converted_to_Text)\n",
    "\n",
    "            if (UserVoiceInput_converted_to_Text.lower() == \"stop\"):\n",
    "                print(\"Terminating Recording\")\n",
    "                break\n",
    "    \n",
    "    except KeyboardInterrupt:\n",
    "        print('A KeyboardInterrupt encountered; Terminating the Program !!!')\n",
    "        exit(0)\n",
    "    \n",
    "    except speech_recognition.UnknownValueError:\n",
    "        print(\"No User Voice detected OR unintelligible noises detected OR the recognized audio cannot be matched to text !!!\")"
   ]
  }
 ],
 "metadata": {
  "kernelspec": {
   "display_name": "Python 3.8.2 ('speechrecog': venv)",
   "language": "python",
   "name": "python3"
  },
  "language_info": {
   "codemirror_mode": {
    "name": "ipython",
    "version": 3
   },
   "file_extension": ".py",
   "mimetype": "text/x-python",
   "name": "python",
   "nbconvert_exporter": "python",
   "pygments_lexer": "ipython3",
   "version": "3.8.2"
  },
  "orig_nbformat": 4,
  "vscode": {
   "interpreter": {
    "hash": "420e2e5a6b347424fedbca8c00b79da42de951ad1b67e232e1a513b34a293817"
   }
  }
 },
 "nbformat": 4,
 "nbformat_minor": 2
}
